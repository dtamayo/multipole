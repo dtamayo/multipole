{
 "cells": [
  {
   "cell_type": "code",
   "execution_count": null,
   "id": "b9efe14c",
   "metadata": {},
   "outputs": [],
   "source": [
    "import numpy as np\n",
    "import matplotlib.pyplot as plt\n",
    "from matplotlib.patches import Circle\n",
    "from mpl_toolkits.axes_grid1 import make_axes_locatable\n",
    "%matplotlib inline\n",
    "\n",
    "def colorbar(mappable):\n",
    "    ax = mappable.axes\n",
    "    fig = ax.figure\n",
    "    divider = make_axes_locatable(ax)\n",
    "    cax = divider.append_axes(\"right\", size=\"5%\", pad=0.2)\n",
    "    cbar = fig.colorbar(mappable, cax=cax)\n",
    "    cbar.set_label(r'log$_{10}|\\frac{E}{E_{10}}|$', fontsize=36)\n",
    "    cbar.ax.tick_params(labelsize=24) \n",
    "    return \n",
    "\n",
    "def elec_field(x, y, x_coords=[0], y_coords=[0], charges=[1]):\n",
    "    Ex = np.zeros_like(x)\n",
    "    Ey = np.zeros_like(x)\n",
    "    for x0, y0, q in zip(x_coords, y_coords, charges):\n",
    "        R = np.sqrt((x - x0)**2 + (y - y0)**2) + 1e-6\n",
    "        Ex += q*(x - x0)/R**3\n",
    "        Ey += q*(y - y0)/R**3\n",
    "    return Ex, Ey\n",
    "\n",
    "class ChargeCollection():\n",
    "    def __init__(self):\n",
    "        self.q = []    \n",
    "        self.qx = []   \n",
    "        self.qy = []   \n",
    "    def add(self, x, y, q):\n",
    "        self.q.append(q)\n",
    "        self.qx.append(x)\n",
    "        self.qy.append(y)\n",
    "    def Efield(self, x, y):\n",
    "        Ex = np.zeros_like(x)\n",
    "        Ey = np.zeros_like(x)\n",
    "        for x0, y0, q in zip(self.qx, self.qy, self.q):\n",
    "            R = np.sqrt((x - x0)**2 + (y - y0)**2) + 1e-6\n",
    "            Ex += q*(x - x0)/R**3\n",
    "            Ey += q*(y - y0)/R**3\n",
    "        return Ex, Ey\n",
    "    \n",
    "def plot_pair(axarr, charges):\n",
    "    ax0, ax1 = axarr\n",
    "    ax0.get_figure().subplots_adjust(wspace=0.35)\n",
    "    \n",
    "    nx, ny = 128, 128\n",
    "    charge_colors = {True: 'red', False: 'black'}\n",
    "    ax0.set_aspect('equal')   \n",
    "    ax1.set_aspect('equal')\n",
    "    ax0.set_title('Near', fontsize=60)\n",
    "    ax1.set_title('Far', fontsize=60)\n",
    "    ax0.set_xlabel('x', fontsize=30)\n",
    "    ax0.set_ylabel('y', fontsize=30)\n",
    "    ax1.set_xlabel('x', fontsize=30)\n",
    "    ax1.set_ylabel('y', fontsize=30)\n",
    "\n",
    "    X = np.linspace(-2, 2, nx)\n",
    "    Y = np.linspace(-2, 2, ny)\n",
    "    x, y = np.meshgrid(X, Y)\n",
    "\n",
    "    Ex, Ey = charges.Efield(x, y)\n",
    "    Ex10, Ey10 = charges.Efield(np.array([[10.]]), np.array([[0.]]))\n",
    "    Emag = np.sqrt(Ex**2 + Ey**2)\n",
    "    Emag10 = np.sqrt(Ex10**2 + Ey10**2)\n",
    "\n",
    "    ax0.streamplot(x, y, Ex/Emag, Ey/Emag, linewidth=2, color=\"black\")\n",
    "\n",
    "    ax0.set_xticks([-2, -1, -0, 1, 2])\n",
    "    ax0.set_yticks([-2, -1, -0, 1, 2])\n",
    "    ax0.tick_params(axis='both', which='major', labelsize=24, width=5)        \n",
    "\n",
    "    #Add filled circles for the charges themselves\n",
    "    for q, qx, qy in zip(charges.q, charges.qx, charges.qy):\n",
    "        ax0.add_artist(Circle((qx, qy), 0.05, color=charge_colors[q>0]))\n",
    "\n",
    "    X = np.linspace(-200, 200, nx)\n",
    "    Y = np.linspace(-200, 200, ny)\n",
    "    x, y = np.meshgrid(X, Y)\n",
    "\n",
    "    Ex, Ey = charges.Efield(x, y)#, x_coords=[-1, 0, 0, 1], y_coords=[0,0,0,0], charges=[1, -1, -1, 1])\n",
    "    Ex10, Ey10 = charges.Efield(np.array([[10.]]), np.array([[0.]]))#, x_coords=[-1, 0, 0, 1], y_coords=[0,0,0,0], charges=[1, -1, -1, 1])\n",
    "    Emag = np.sqrt(Ex**2 + Ey**2)\n",
    "    Emag10 = np.sqrt(Ex10**2 + Ey10**2)\n",
    "\n",
    "    ax1.streamplot(x, y, Ex/Emag, Ey/Emag, linewidth=2, color=\"black\")\n",
    "\n",
    "    ax1.tick_params(axis='both', which='major', labelsize=24, width=5)"
   ]
  },
  {
   "cell_type": "code",
   "execution_count": null,
   "id": "72ebd768",
   "metadata": {},
   "outputs": [],
   "source": [
    "charges = ChargeCollection()\n",
    "charges.add(x=0, y=, q=1)"
   ]
  },
  {
   "cell_type": "code",
   "execution_count": null,
   "id": "5963776a",
   "metadata": {},
   "outputs": [],
   "source": [
    "fig, axarr = plt.subplots(ncols=2, figsize=(24, 12))\n",
    "plot_pair(axarr, charges)"
   ]
  },
  {
   "cell_type": "code",
   "execution_count": null,
   "id": "acbf77a0",
   "metadata": {},
   "outputs": [],
   "source": [
    "charges2 = ChargeCollection()\n",
    "charges2.add(x=0.5, y=1.1, q=)\n",
    "charges2.add(x=0.3, y=-0.4, q=)\n",
    "charges2.add(x=-0.7, y=0.6, q=)\n",
    "charges2.add(x=-0.4, y=-0.4, q=)"
   ]
  },
  {
   "cell_type": "code",
   "execution_count": null,
   "id": "b4b98be7",
   "metadata": {},
   "outputs": [],
   "source": [
    "charges3 = ChargeCollection()\n",
    "charges3.add(x=0.2, y=0.8, q=)\n",
    "charges3.add(x=-0.5, y=0.4, q=)\n",
    "charges3.add(x=-0.7, y=-0.6, q=)\n",
    "charges3.add(x=0.4, y=-0.4, q=)\n",
    "charges3.add(x=0.2, y=-0.1, q)"
   ]
  },
  {
   "cell_type": "code",
   "execution_count": null,
   "id": "03863f42",
   "metadata": {},
   "outputs": [],
   "source": [
    "fig, axarr = plt.subplots(ncols=2, nrows=3, figsize=(24, 36))\n",
    "plot_pair(axarr[0,:], charges)\n",
    "plot_pair(axarr[1,:], charges2)\n",
    "plot_pair(axarr[2,:], charges3)"
   ]
  },
  {
   "cell_type": "code",
   "execution_count": null,
   "id": "79d0852c",
   "metadata": {},
   "outputs": [],
   "source": []
  }
 ],
 "metadata": {
  "kernelspec": {
   "display_name": "Python 3",
   "language": "python",
   "name": "python3"
  },
  "language_info": {
   "codemirror_mode": {
    "name": "ipython",
    "version": 3
   },
   "file_extension": ".py",
   "mimetype": "text/x-python",
   "name": "python",
   "nbconvert_exporter": "python",
   "pygments_lexer": "ipython3",
   "version": "3.7.12"
  }
 },
 "nbformat": 4,
 "nbformat_minor": 5
}
